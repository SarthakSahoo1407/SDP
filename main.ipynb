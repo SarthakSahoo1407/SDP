{
 "cells": [
  {
   "cell_type": "code",
   "execution_count": 2,
   "id": "7f74fce9-0bba-4b2b-89f1-590be92f2b09",
   "metadata": {},
   "outputs": [],
   "source": [
    "import numpy as np\n",
    "import pandas as pd\n",
    "from sklearn.model_selection import train_test_split\n",
    "from sklearn.preprocessing import OneHotEncoder, LabelEncoder\n",
    "from sklearn.compose import ColumnTransformer\n"
   ]
  },
  {
   "cell_type": "code",
   "execution_count": null,
   "id": "15013bf6",
   "metadata": {},
   "outputs": [],
   "source": [
    "data = pd.read_csv('thyroid_cancer_risk_data.csv')\n",
    "data.drop('Patient_ID', axis=1, inplace=True) "
   ]
  },
  {
   "cell_type": "code",
   "execution_count": null,
   "id": "ddeae20d",
   "metadata": {},
   "outputs": [],
   "source": [
    "\n",
    "binary_cols = ['Gender', 'Family_History', 'Radiation_Exposure', \n",
    "               'Iodine_Deficiency', 'Smoking', 'Obesity', 'Diabetes']\n",
    "data[binary_cols] = data[binary_cols].replace({'Male': 1, 'Female': 0, 'Yes': 1, 'No': 0})\n",
    "\n",
    "risk_mapping = {'Low': 0, 'Medium': 1, 'High': 2}\n",
    "data['Thyroid_Cancer_Risk'] = data['Thyroid_Cancer_Risk'].map(risk_mapping)\n",
    "\n",
    "categorical_cols = ['Country', 'Ethnicity']\n",
    "preprocessor = ColumnTransformer(\n",
    "    transformers=[('cat', OneHotEncoder(handle_unknown='ignore'), categorical_cols)],\n",
    "    remainder='passthrough'\n",
    ")\n",
    "X = preprocessor.fit_transform(data.drop('Diagnosis', axis=1))\n",
    "y = LabelEncoder().fit_transform(data['Diagnosis'])  # Benign=0, Malignant=1"
   ]
  },
  {
   "cell_type": "code",
   "execution_count": null,
   "id": "08719cec",
   "metadata": {},
   "outputs": [],
   "source": [
    "from imblearn.over_sampling import SMOTE\n",
    "\n",
    "X_train, X_test, y_train, y_test = train_test_split(X, y, test_size=0.3, stratify=y, random_state=42)\n",
    "smote = SMOTE(random_state=42)\n",
    "X_train_smote, y_train_smote = smote.fit_resample(X_train, y_train)"
   ]
  },
  {
   "cell_type": "code",
   "execution_count": null,
   "id": "f47bd9fb",
   "metadata": {},
   "outputs": [],
   "source": [
    "from sklearn.tree import DecisionTreeClassifier\n",
    "from sklearn.ensemble import RandomForestClassifier, GradientBoostingClassifier\n",
    "from xgboost import XGBClassifier\n",
    "from sklearn.model_selection import GridSearchCV\n",
    "\n",
    "# Decision Tree\n",
    "dt_params = {'max_depth': [3, 5, 7], 'min_samples_split': [2, 5]}\n",
    "dt = GridSearchCV(DecisionTreeClassifier(), dt_params, cv=5, scoring='recall')\n",
    "dt.fit(X_train_smote, y_train_smote)\n",
    "\n",
    "# Random Forest\n",
    "rf_params = {'n_estimators': [100, 200], 'max_depth': [5, 7]}\n",
    "rf = GridSearchCV(RandomForestClassifier(class_weight='balanced'), rf_params, cv=5, scoring='recall')\n",
    "rf.fit(X_train_smote, y_train_smote)\n",
    "\n",
    "# Gradient Boosting\n",
    "gb_params = {'n_estimators': [100, 200], 'learning_rate': [0.01, 0.1], 'max_depth': [3, 5]}\n",
    "gb = GridSearchCV(GradientBoostingClassifier(), gb_params, cv=5, scoring='recall')\n",
    "gb.fit(X_train_smote, y_train_smote)\n",
    "\n",
    "# XGBoost\n",
    "xgb_params = {'n_estimators': [100, 200], 'learning_rate': [0.01, 0.1], 'max_depth': [3, 5]}\n",
    "xgb = GridSearchCV(XGBClassifier(use_label_encoder=False, eval_metric='logloss'), xgb_params, cv=5, scoring='recall')\n",
    "xgb.fit(X_train_smote, y_train_smote)"
   ]
  },
  {
   "cell_type": "code",
   "execution_count": null,
   "id": "376aeea6",
   "metadata": {},
   "outputs": [],
   "source": [
    "from sklearn.metrics import accuracy_score, precision_score, recall_score, f1_score, roc_auc_score\n",
    "\n",
    "def evaluate_model(model, X_test, y_test):\n",
    "    y_pred = model.predict(X_test)\n",
    "    metrics = {\n",
    "        'Accuracy': accuracy_score(y_test, y_pred),\n",
    "        'Precision': precision_score(y_test, y_pred),\n",
    "        'Recall': recall_score(y_test, y_pred),\n",
    "        'F1-Score': f1_score(y_test, y_pred),\n",
    "        'AUC-ROC': roc_auc_score(y_test, model.predict_proba(X_test)[:, 1])\n",
    "    }\n",
    "    return metrics\n",
    "\n",
    "dt_metrics = evaluate_model(dt.best_estimator_, X_test, y_test)\n",
    "rf_metrics = evaluate_model(rf.best_estimator_, X_test, y_test)\n",
    "gb_metrics = evaluate_model(gb.best_estimator_, X_test, y_test)\n",
    "xgb_metrics = evaluate_model(xgb.best_estimator_, X_test, y_test)"
   ]
  },
  {
   "cell_type": "code",
   "execution_count": null,
   "id": "36fa5d80",
   "metadata": {},
   "outputs": [],
   "source": [
    "results = pd.DataFrame([dt_metrics, rf_metrics, gb_metrics, xgb_metrics], \n",
    "                       index=['Decision Tree', 'Random Forest', 'Gradient Boosting', 'XGBoost'])\n",
    "print(results)"
   ]
  }
 ],
 "metadata": {
  "kernelspec": {
   "display_name": "Python 3 (ipykernel)",
   "language": "python",
   "name": "python3"
  },
  "language_info": {
   "codemirror_mode": {
    "name": "ipython",
    "version": 3
   },
   "file_extension": ".py",
   "mimetype": "text/x-python",
   "name": "python",
   "nbconvert_exporter": "python",
   "pygments_lexer": "ipython3",
   "version": "3.11.9"
  }
 },
 "nbformat": 4,
 "nbformat_minor": 5
}
